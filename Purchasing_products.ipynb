{
  "nbformat": 4,
  "nbformat_minor": 0,
  "metadata": {
    "colab": {
      "name": "Purchasing products.ipynb",
      "provenance": [],
      "toc_visible": true,
      "authorship_tag": "ABX9TyORfU3kTkh1r+A04OqWI4P+"
    },
    "kernelspec": {
      "name": "python3",
      "display_name": "Python 3"
    },
    "language_info": {
      "name": "python"
    }
  },
  "cells": [
    {
      "cell_type": "code",
      "metadata": {
        "id": "lO5ry9PLYIYL"
      },
      "source": [
        "import json"
      ],
      "execution_count": 27,
      "outputs": []
    },
    {
      "cell_type": "markdown",
      "metadata": {
        "id": "Zwa56Bi4JrE8"
      },
      "source": [
        "Read inventry"
      ]
    },
    {
      "cell_type": "code",
      "metadata": {
        "id": "WnUIZrm7YbHn"
      },
      "source": [
        "fd = open(\"record.json\",'r')\n",
        "r = fd.read()\n",
        "fd.close()\n",
        "\n",
        "records = json.loads(r)"
      ],
      "execution_count": 29,
      "outputs": []
    },
    {
      "cell_type": "code",
      "metadata": {
        "colab": {
          "base_uri": "https://localhost:8080/"
        },
        "id": "sUVagcj7Yc-i",
        "outputId": "18c97bcf-a1af-4e31-fe81-52830207959f"
      },
      "source": [
        "records"
      ],
      "execution_count": 30,
      "outputs": [
        {
          "output_type": "execute_result",
          "data": {
            "text/plain": [
              "{'1001': {'name': 'Choco Cake', 'pr': 100, 'qn': 34},\n",
              " '1002': {'name': 'Milk Cake', 'pr': 800, 'qn': 100},\n",
              " '1003': {'name': 'Drink', 'pr': 85, 'qn': 100},\n",
              " '1004': {'name': 'Candy', 'pr': 5, 'qn': 1000},\n",
              " '1005': {'name': 'Pen', 'pr': 20, 'qn': 100},\n",
              " '1006': {'name': 'Phone', 'pr': 50000, 'qn': 10},\n",
              " '1007': {'name': 'Mic', 'pr': 1500, 'qn': 0},\n",
              " '1008': {'name': 'Case', 'pr': 599, 'qn': 5},\n",
              " '1009': {'name': 'Keyboard', 'pr': 1999, 'qn': 10},\n",
              " '1010': {'name': 'socks', 'pr': 299, 'qn': 200},\n",
              " '1011': {'name': 'ball', 'pr': 50, 'qn': 180},\n",
              " '1012': {'name': 'tshirt', 'pr': 800, 'qn': 40},\n",
              " '1013': {'name': 'lipstick', 'pr': 299, 'qn': 150},\n",
              " '1014': {'name': 'sunglasses', 'pr': 199, 'qn': 100},\n",
              " '1015': {'name': 'school bag', 'pr': 450, 'qn': 120},\n",
              " '1016': {'name': 'cadbury dairy milk', 'pr': 100, 'qn': 200},\n",
              " '1017': {'name': 'doormat', 'pr': 500, 'qn': 50},\n",
              " '1018': {'name': 'sandals', 'pr': 599, 'qn': 100},\n",
              " '1019': {'name': 'watch', 'pr': 1999, 'qn': 20},\n",
              " '1020': {'name': 'wallclock', 'pr': 799, 'qn': 70},\n",
              " '1021': {'name': 'wafers', 'pr': 10, 'qn': 200},\n",
              " '1022': {'name': 'nachos', 'pr': 70, 'qn': 100},\n",
              " '1023': {'name': 'dark choclate', 'pr': 199, 'qn': 100},\n",
              " '1024': {'name': 'cushions', 'pr': 599, 'qn': 10},\n",
              " '1025': {'name': 'earrings', 'pr': 50, 'qn': 100},\n",
              " '1026': {'name': 'laptop cover', 'pr': 799, 'qn': 100},\n",
              " '1027': {'name': 'keychain', 'pr': 100, 'qn': 100},\n",
              " '1028': {'name': 'cookies', 'pr': 50, 'qn': 200},\n",
              " '1029': {'name': 'earphones', 'pr': 600, 'qn': 10},\n",
              " '1030': {'name': 'jeans', 'pr': 1000, 'qn': 100},\n",
              " '1031': {'name': 'noodles', 'pr': 120, 'qn': 100},\n",
              " '1032': {'name': 'bread', 'pr': 30, 'qn': 100},\n",
              " '1033': {'name': 'juice', 'pr': 80, 'qn': 100},\n",
              " '1034': {'name': 'energy bar', 'pr': 50, 'qn': 100},\n",
              " '1035': {'name': 'mineral water', 'pr': 30, 'qn': 400}}"
            ]
          },
          "metadata": {},
          "execution_count": 30
        }
      ]
    },
    {
      "cell_type": "markdown",
      "metadata": {
        "id": "oCoPBwdwKDb7"
      },
      "source": [
        "Purchase"
      ]
    },
    {
      "cell_type": "code",
      "metadata": {
        "colab": {
          "base_uri": "https://localhost:8080/"
        },
        "id": "6QHww6v5Y_09",
        "outputId": "91afd614-5163-45a2-a5c2-a494f8911167"
      },
      "source": [
        "ui_prod  = str(input(\"Enter the product_Id: \"))\n",
        "ui_quant = int(input(\"Enter the quantity: \"))\n",
        "\n",
        "\n",
        "print(\"Product: \", records[ui_prod]['name'])\n",
        "print(\"Price: \", records[ui_prod]['pr'])\n",
        "print(\"Billing Amount: \", records[ui_prod]['pr'] * ui_quant)\n",
        "\n",
        "records[ui_prod]['qn'] = records[ui_prod]['qn'] - ui_quant"
      ],
      "execution_count": 31,
      "outputs": [
        {
          "output_type": "stream",
          "name": "stdout",
          "text": [
            "Enter the product_Id: 1001\n",
            "Enter the quantity: 2\n",
            "Product:  Choco Cake\n",
            "Price:  100\n",
            "Billing Amount:  200\n"
          ]
        }
      ]
    },
    {
      "cell_type": "markdown",
      "metadata": {
        "id": "2kwbXpnsKfjX"
      },
      "source": [
        "Update inventry"
      ]
    },
    {
      "cell_type": "code",
      "metadata": {
        "id": "btnGjGHjZbQG"
      },
      "source": [
        "js = json.dumps(records)\n",
        "\n",
        "fd = open(\"record.json\",'w')\n",
        "fd.write(js)\n",
        "fd.close()"
      ],
      "execution_count": 32,
      "outputs": []
    },
    {
      "cell_type": "markdown",
      "metadata": {
        "id": "Pq3yS7RwKzKN"
      },
      "source": [
        "Sales"
      ]
    },
    {
      "cell_type": "code",
      "metadata": {
        "colab": {
          "base_uri": "https://localhost:8080/"
        },
        "id": "TboYzkRMZvlR",
        "outputId": "6fc333c4-8a31-4ddb-b344-fd6f25a4c85c"
      },
      "source": [
        "{'prod' : ui_prod, 'qn' : ui_quant, 'amount': records[ui_prod]['pr'] * ui_quant}"
      ],
      "execution_count": 33,
      "outputs": [
        {
          "output_type": "execute_result",
          "data": {
            "text/plain": [
              "{'amount': 200, 'prod': '1001', 'qn': 2}"
            ]
          },
          "metadata": {},
          "execution_count": 33
        }
      ]
    },
    {
      "cell_type": "code",
      "metadata": {
        "id": "vsdIIzRMZ08X"
      },
      "source": [
        "sales = {1 : {'prod' : ui_prod, 'qn' : ui_quant, 'amount': records[ui_prod]['pr'] * ui_quant},\n",
        "         2 : {'prod' : ui_prod, 'qn' : ui_quant, 'amount': records[ui_prod]['pr'] * ui_quant},\n",
        "         3 : {'prod' : ui_prod, 'qn' : ui_quant, 'amount': records[ui_prod]['pr'] * ui_quant}}"
      ],
      "execution_count": 34,
      "outputs": []
    },
    {
      "cell_type": "code",
      "metadata": {
        "id": "4_eOOnuTZ3Sh"
      },
      "source": [
        "sale = json.dumps(sales)"
      ],
      "execution_count": 35,
      "outputs": []
    },
    {
      "cell_type": "code",
      "metadata": {
        "colab": {
          "base_uri": "https://localhost:8080/",
          "height": 54
        },
        "id": "OjFkbPmb7Mo5",
        "outputId": "04a81e2f-3547-45d1-c72a-b3bae7861251"
      },
      "source": [
        "sale"
      ],
      "execution_count": 37,
      "outputs": [
        {
          "output_type": "execute_result",
          "data": {
            "application/vnd.google.colaboratory.intrinsic+json": {
              "type": "string"
            },
            "text/plain": [
              "'{\"1\": {\"prod\": \"1001\", \"qn\": 2, \"amount\": 200}, \"2\": {\"prod\": \"1001\", \"qn\": 2, \"amount\": 200}, \"3\": {\"prod\": \"1001\", \"qn\": 2, \"amount\": 200}}'"
            ]
          },
          "metadata": {},
          "execution_count": 37
        }
      ]
    }
  ]
}