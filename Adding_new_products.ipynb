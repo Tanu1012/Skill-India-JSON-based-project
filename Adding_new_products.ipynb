{
  "nbformat": 4,
  "nbformat_minor": 0,
  "metadata": {
    "colab": {
      "name": "Adding_new_products.ipynb",
      "provenance": [],
      "authorship_tag": "ABX9TyPbIimqdJat0EIsUPFrcR9X"
    },
    "kernelspec": {
      "name": "python3",
      "display_name": "Python 3"
    },
    "language_info": {
      "name": "python"
    }
  },
  "cells": [
    {
      "cell_type": "code",
      "metadata": {
        "id": "t6IH3EgJM7FL"
      },
      "source": [
        "import json"
      ],
      "execution_count": 13,
      "outputs": []
    },
    {
      "cell_type": "markdown",
      "metadata": {
        "id": "klc9rsIiJLpL"
      },
      "source": [
        "**Adding new products**"
      ]
    },
    {
      "cell_type": "markdown",
      "metadata": {
        "id": "085dxJU5Fcx8"
      },
      "source": [
        "Read data from file\n"
      ]
    },
    {
      "cell_type": "code",
      "metadata": {
        "id": "3cbIb_fIFkrQ"
      },
      "source": [
        "fd = open(\"record.json\",'r')\n",
        "r = fd.read()\n",
        "fd.close()\n"
      ],
      "execution_count": 14,
      "outputs": []
    },
    {
      "cell_type": "code",
      "metadata": {
        "id": "WZgExITUHe0n"
      },
      "source": [
        "record = json.loads(r)"
      ],
      "execution_count": 15,
      "outputs": []
    },
    {
      "cell_type": "code",
      "metadata": {
        "colab": {
          "base_uri": "https://localhost:8080/"
        },
        "id": "-znB9QsDNyUw",
        "outputId": "7fae6410-ecda-4fe4-9f18-6f7e2665170a"
      },
      "source": [
        "record"
      ],
      "execution_count": 16,
      "outputs": [
        {
          "output_type": "execute_result",
          "data": {
            "text/plain": [
              "{'1001': {'name': 'Choco Cake', 'pr': 100, 'qn': 34},\n",
              " '1002': {'name': 'Milk Cake', 'pr': 800, 'qn': 100},\n",
              " '1003': {'name': 'Drink', 'pr': 85, 'qn': 100},\n",
              " '1004': {'name': 'Candy', 'pr': 5, 'qn': 1000},\n",
              " '1005': {'name': 'Pen', 'pr': 20, 'qn': 100},\n",
              " '1006': {'name': 'Phone', 'pr': 50000, 'qn': 10},\n",
              " '1007': {'name': 'Mic', 'pr': 1500, 'qn': 0},\n",
              " '1008': {'name': 'Case', 'pr': 599, 'qn': 5},\n",
              " '1009': {'name': 'Keyboard', 'pr': 1999, 'qn': 10},\n",
              " '1010': {'name': 'socks', 'pr': 299, 'qn': 200},\n",
              " '1011': {'name': 'ball', 'pr': 50, 'qn': 180},\n",
              " '1012': {'name': 'tshirt', 'pr': 800, 'qn': 40},\n",
              " '1013': {'name': 'lipstick', 'pr': 299, 'qn': 150},\n",
              " '1014': {'name': 'sunglasses', 'pr': 199, 'qn': 100},\n",
              " '1015': {'name': 'school bag', 'pr': 450, 'qn': 120},\n",
              " '1016': {'name': 'cadbury dairy milk', 'pr': 100, 'qn': 200},\n",
              " '1017': {'name': 'doormat', 'pr': 500, 'qn': 50},\n",
              " '1018': {'name': 'sandals', 'pr': 599, 'qn': 100},\n",
              " '1019': {'name': 'watch', 'pr': 1999, 'qn': 20},\n",
              " '1020': {'name': 'wallclock', 'pr': 799, 'qn': 70},\n",
              " '1021': {'name': 'wafers', 'pr': 10, 'qn': 200},\n",
              " '1022': {'name': 'nachos', 'pr': 70, 'qn': 100},\n",
              " '1023': {'name': 'dark choclate', 'pr': 199, 'qn': 100},\n",
              " '1024': {'name': 'cushions', 'pr': 599, 'qn': 10},\n",
              " '1025': {'name': 'earrings', 'pr': 50, 'qn': 100},\n",
              " '1026': {'name': 'laptop cover', 'pr': 799, 'qn': 100},\n",
              " '1027': {'name': 'keychain', 'pr': 100, 'qn': 100},\n",
              " '1028': {'name': 'cookies', 'pr': 50, 'qn': 200},\n",
              " '1029': {'name': 'earphones', 'pr': 600, 'qn': 10},\n",
              " '1030': {'name': 'jeans', 'pr': 1000, 'qn': 100},\n",
              " '1031': {'name': 'noodles', 'pr': 120, 'qn': 100},\n",
              " '1032': {'name': 'bread', 'pr': 30, 'qn': 100},\n",
              " '1033': {'name': 'juice', 'pr': 80, 'qn': 100},\n",
              " '1034': {'name': 'energy bar', 'pr': 50, 'qn': 100},\n",
              " '1035': {'name': 'mineral water', 'pr': 30, 'qn': 400}}"
            ]
          },
          "metadata": {},
          "execution_count": 16
        }
      ]
    },
    {
      "cell_type": "markdown",
      "metadata": {
        "id": "L_qEPeqGIcZG"
      },
      "source": [
        "Add new item"
      ]
    },
    {
      "cell_type": "code",
      "metadata": {
        "colab": {
          "base_uri": "https://localhost:8080/"
        },
        "id": "sbW2hnnDOCT6",
        "outputId": "76f017eb-154a-43aa-ab9e-f3e6dbb3b9ed"
      },
      "source": [
        "prod_id = str(input(\"Enter product id:\"))\n",
        "name = str(input(\"Enter name:\"))\n",
        "pr = int(input(\"Enter price:\"))\n",
        "qn = int(input(\"Enter quantity:\"))\n",
        "\n",
        "record[prod_id] = {'name': name, 'pr': pr, 'qn': qn}\n",
        "\n",
        "js = json.dumps(record)\n",
        "\n",
        "fd = open(\"record.json\",'w')\n",
        "fd.write(js)\n",
        "fd.close()"
      ],
      "execution_count": 11,
      "outputs": [
        {
          "name": "stdout",
          "output_type": "stream",
          "text": [
            "Enter product id:1035\n",
            "Enter name:mineral water\n",
            "Enter price:30\n",
            "Enter quantity:400\n"
          ]
        }
      ]
    },
    {
      "cell_type": "code",
      "metadata": {
        "id": "aoaFT64VQIPW",
        "colab": {
          "base_uri": "https://localhost:8080/"
        },
        "outputId": "bc76c49b-2ea8-48a9-9cf4-e77e624f353a"
      },
      "source": [
        "record"
      ],
      "execution_count": 12,
      "outputs": [
        {
          "output_type": "execute_result",
          "data": {
            "text/plain": [
              "{'1001': {'name': 'Choco Cake', 'pr': 100, 'qn': 34},\n",
              " '1002': {'name': 'Milk Cake', 'pr': 800, 'qn': 100},\n",
              " '1003': {'name': 'Drink', 'pr': 85, 'qn': 100},\n",
              " '1004': {'name': 'Candy', 'pr': 5, 'qn': 1000},\n",
              " '1005': {'name': 'Pen', 'pr': 20, 'qn': 100},\n",
              " '1006': {'name': 'Phone', 'pr': 50000, 'qn': 10},\n",
              " '1007': {'name': 'Mic', 'pr': 1500, 'qn': 0},\n",
              " '1008': {'name': 'Case', 'pr': 599, 'qn': 5},\n",
              " '1009': {'name': 'Keyboard', 'pr': 1999, 'qn': 10},\n",
              " '1010': {'name': 'socks', 'pr': 299, 'qn': 200},\n",
              " '1011': {'name': 'ball', 'pr': 50, 'qn': 180},\n",
              " '1012': {'name': 'tshirt', 'pr': 800, 'qn': 40},\n",
              " '1013': {'name': 'lipstick', 'pr': 299, 'qn': 150},\n",
              " '1014': {'name': 'sunglasses', 'pr': 199, 'qn': 100},\n",
              " '1015': {'name': 'school bag', 'pr': 450, 'qn': 120},\n",
              " '1016': {'name': 'cadbury dairy milk', 'pr': 100, 'qn': 200},\n",
              " '1017': {'name': 'doormat', 'pr': 500, 'qn': 50},\n",
              " '1018': {'name': 'sandals', 'pr': 599, 'qn': 100},\n",
              " '1019': {'name': 'watch', 'pr': 1999, 'qn': 20},\n",
              " '1020': {'name': 'wallclock', 'pr': 799, 'qn': 70},\n",
              " '1021': {'name': 'wafers', 'pr': 10, 'qn': 200},\n",
              " '1022': {'name': 'nachos', 'pr': 70, 'qn': 100},\n",
              " '1023': {'name': 'dark choclate', 'pr': 199, 'qn': 100},\n",
              " '1024': {'name': 'cushions', 'pr': 599, 'qn': 10},\n",
              " '1025': {'name': 'earrings', 'pr': 50, 'qn': 100},\n",
              " '1026': {'name': 'laptop cover', 'pr': 799, 'qn': 100},\n",
              " '1027': {'name': 'keychain', 'pr': 100, 'qn': 100},\n",
              " '1028': {'name': 'cookies', 'pr': 50, 'qn': 200},\n",
              " '1029': {'name': 'earphones', 'pr': 600, 'qn': 10},\n",
              " '1030': {'name': 'jeans', 'pr': 1000, 'qn': 100},\n",
              " '1031': {'name': 'noodles', 'pr': 120, 'qn': 100},\n",
              " '1032': {'name': 'bread', 'pr': 30, 'qn': 100},\n",
              " '1033': {'name': 'juice', 'pr': 80, 'qn': 100},\n",
              " '1034': {'name': 'energy bar', 'pr': 50, 'qn': 100},\n",
              " '1035': {'name': 'mineral water', 'pr': 30, 'qn': 400}}"
            ]
          },
          "metadata": {},
          "execution_count": 12
        }
      ]
    }
  ]
}